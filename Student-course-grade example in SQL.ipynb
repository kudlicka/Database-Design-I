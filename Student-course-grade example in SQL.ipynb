{
 "cells": [
  {
   "cell_type": "markdown",
   "metadata": {},
   "source": [
    "# Student-course-grade example in SQL"
   ]
  },
  {
   "cell_type": "markdown",
   "metadata": {},
   "source": [
    "*Following cell loads the SQL extension for jupyter notebooks and sets up an empty SQLite3 database in memory. Ater executing it, you should see ``'Connected: @None'``. If you get an error instead, you have probably forgotten to install ipython-sql. In that case, open a terminal (run ``cmd`` on Windows) and run: ``pip install ipython-sql``*"
   ]
  },
  {
   "cell_type": "code",
   "execution_count": 1,
   "metadata": {},
   "outputs": [
    {
     "name": "stdout",
     "output_type": "stream",
     "text": [
      " * sqlite://\n",
      "Done.\n"
     ]
    },
    {
     "data": {
      "text/plain": [
       "[]"
      ]
     },
     "execution_count": 1,
     "metadata": {},
     "output_type": "execute_result"
    }
   ],
   "source": [
    "%load_ext sql\n",
    "%sql sqlite://\n",
    "%sql PRAGMA foreign_keys = ON;"
   ]
  },
  {
   "cell_type": "markdown",
   "metadata": {},
   "source": [
    "Now, we are able to execute SQL statements to create tables for students, courses and grades (note that ``%%sql`` at the beginning is not a part of SQL, but an information for the kernel (a program which executes the code in cells) that the cell contains SQL and not a Python code):"
   ]
  },
  {
   "cell_type": "code",
   "execution_count": 2,
   "metadata": {},
   "outputs": [
    {
     "name": "stdout",
     "output_type": "stream",
     "text": [
      " * sqlite://\n",
      "Done.\n",
      "Done.\n",
      "Done.\n"
     ]
    },
    {
     "data": {
      "text/plain": [
       "[]"
      ]
     },
     "execution_count": 2,
     "metadata": {},
     "output_type": "execute_result"
    }
   ],
   "source": [
    "%%sql\n",
    "CREATE TABLE student(\n",
    "  id int NOT NULL PRIMARY KEY,\n",
    "  first_name varchar(255) NOT NULL,\n",
    "  last_name varchar(255) NOT NULL\n",
    ");\n",
    "CREATE TABLE course(\n",
    "  id int NOT NULL PRIMARY KEY,\n",
    "  code varchar(30) NOT NULL UNIQUE,\n",
    "  title varchar(255)\n",
    ");\n",
    "CREATE TABLE grade(\n",
    "  student_id int NOT NULL,\n",
    "  course_id int NOT NULL,\n",
    "  grade char(1),\n",
    "  PRIMARY KEY(student_id, course_id),\n",
    "  FOREIGN KEY(student_id) REFERENCES student(id),\n",
    "  FOREIGN KEY(course_id) REFERENCES course(id)\n",
    ");"
   ]
  },
  {
   "cell_type": "markdown",
   "metadata": {},
   "source": [
    "Note that we have used ``NOT NULL`` for each of the attributes except for the course title and the grade.\n",
    "\n",
    "Now, let’s insert some data:"
   ]
  },
  {
   "cell_type": "code",
   "execution_count": 3,
   "metadata": {},
   "outputs": [
    {
     "name": "stdout",
     "output_type": "stream",
     "text": [
      " * sqlite://\n",
      "1 rows affected.\n",
      "1 rows affected.\n"
     ]
    },
    {
     "data": {
      "text/plain": [
       "[]"
      ]
     },
     "execution_count": 3,
     "metadata": {},
     "output_type": "execute_result"
    }
   ],
   "source": [
    "%%sql\n",
    "INSERT INTO student(id, first_name, last_name) VALUES (1, 'Homer', 'Simpson');\n",
    "INSERT INTO student(id, first_name, last_name) VALUES (2, 'Marge', 'Bouvier');"
   ]
  },
  {
   "cell_type": "markdown",
   "metadata": {},
   "source": [
    "We can look at the contents of the table by running the following SQL query:"
   ]
  },
  {
   "cell_type": "code",
   "execution_count": 4,
   "metadata": {},
   "outputs": [
    {
     "name": "stdout",
     "output_type": "stream",
     "text": [
      " * sqlite://\n",
      "Done.\n"
     ]
    },
    {
     "data": {
      "text/html": [
       "<table>\n",
       "    <tr>\n",
       "        <th>id</th>\n",
       "        <th>first_name</th>\n",
       "        <th>last_name</th>\n",
       "    </tr>\n",
       "    <tr>\n",
       "        <td>1</td>\n",
       "        <td>Homer</td>\n",
       "        <td>Simpson</td>\n",
       "    </tr>\n",
       "    <tr>\n",
       "        <td>2</td>\n",
       "        <td>Marge</td>\n",
       "        <td>Bouvier</td>\n",
       "    </tr>\n",
       "</table>"
      ],
      "text/plain": [
       "[(1, 'Homer', 'Simpson'), (2, 'Marge', 'Bouvier')]"
      ]
     },
     "execution_count": 4,
     "metadata": {},
     "output_type": "execute_result"
    }
   ],
   "source": [
    "%%sql\n",
    "SELECT * FROM student"
   ]
  },
  {
   "cell_type": "markdown",
   "metadata": {},
   "source": [
    "What happens if we now try to insert another tuple in the table with ID 2 (note that there already exists a student with that ID)?\n",
    "\n",
    "*N.B.: Only ``INSERT INTO ...`` is an SQL, the rest is a Python code catching and priting an error from the database. We will use this later too.*"
   ]
  },
  {
   "cell_type": "code",
   "execution_count": 5,
   "metadata": {},
   "outputs": [
    {
     "name": "stdout",
     "output_type": "stream",
     "text": [
      " * sqlite://\n",
      "(sqlite3.IntegrityError) UNIQUE constraint failed: student.id [SQL: \"INSERT INTO student(id, first_name, last_name) VALUES (2, 'Bart', 'Simpson');\"] (Background on this error at: http://sqlalche.me/e/gkpj)\n"
     ]
    }
   ],
   "source": [
    "try:\n",
    "    %sql INSERT INTO student(id, first_name, last_name) VALUES (2, 'Bart', 'Simpson');\n",
    "except Exception as e:\n",
    "    print(e)"
   ]
  },
  {
   "cell_type": "markdown",
   "metadata": {},
   "source": [
    "We get an error: ``UNIQUE constraint failed: student.id``.\n",
    "\n",
    "Let’s now add two courses to our database: 1DL301 Database Design I and 1DL321 for which we do not know the name (recall that we have allowed NULLs for the course title):"
   ]
  },
  {
   "cell_type": "code",
   "execution_count": 6,
   "metadata": {},
   "outputs": [
    {
     "name": "stdout",
     "output_type": "stream",
     "text": [
      " * sqlite://\n",
      "1 rows affected.\n",
      "1 rows affected.\n"
     ]
    },
    {
     "data": {
      "text/plain": [
       "[]"
      ]
     },
     "execution_count": 6,
     "metadata": {},
     "output_type": "execute_result"
    }
   ],
   "source": [
    "%%sql\n",
    "INSERT INTO course(id, code, title) VALUES (1, '1DL301', 'Database Design I');\n",
    "INSERT INTO course(id, code) VALUES (2, '1DL321');"
   ]
  },
  {
   "cell_type": "markdown",
   "metadata": {},
   "source": [
    "The title for 1DL321 is \"Compiler Design I\" so let's update the course:"
   ]
  },
  {
   "cell_type": "code",
   "execution_count": 7,
   "metadata": {},
   "outputs": [
    {
     "name": "stdout",
     "output_type": "stream",
     "text": [
      " * sqlite://\n",
      "1 rows affected.\n"
     ]
    },
    {
     "data": {
      "text/plain": [
       "[]"
      ]
     },
     "execution_count": 7,
     "metadata": {},
     "output_type": "execute_result"
    }
   ],
   "source": [
    "%%sql\n",
    "UPDATE course SET title='Compiler Design I' WHERE id=2"
   ]
  },
  {
   "cell_type": "markdown",
   "metadata": {},
   "source": [
    "To see the list of all courses, we can run the following query:"
   ]
  },
  {
   "cell_type": "code",
   "execution_count": 8,
   "metadata": {},
   "outputs": [
    {
     "name": "stdout",
     "output_type": "stream",
     "text": [
      " * sqlite://\n",
      "Done.\n"
     ]
    },
    {
     "data": {
      "text/html": [
       "<table>\n",
       "    <tr>\n",
       "        <th>id</th>\n",
       "        <th>code</th>\n",
       "        <th>title</th>\n",
       "    </tr>\n",
       "    <tr>\n",
       "        <td>1</td>\n",
       "        <td>1DL301</td>\n",
       "        <td>Database Design I</td>\n",
       "    </tr>\n",
       "    <tr>\n",
       "        <td>2</td>\n",
       "        <td>1DL321</td>\n",
       "        <td>Compiler Design I</td>\n",
       "    </tr>\n",
       "</table>"
      ],
      "text/plain": [
       "[(1, '1DL301', 'Database Design I'), (2, '1DL321', 'Compiler Design I')]"
      ]
     },
     "execution_count": 8,
     "metadata": {},
     "output_type": "execute_result"
    }
   ],
   "source": [
    "%%sql\n",
    "SELECT * FROM course"
   ]
  },
  {
   "cell_type": "markdown",
   "metadata": {},
   "source": [
    "If we at this point try to insert a grade (say, U) for Homer Simpson (i.e., the student with ID 1) and the course with ID 3 by running:"
   ]
  },
  {
   "cell_type": "code",
   "execution_count": 9,
   "metadata": {},
   "outputs": [
    {
     "name": "stdout",
     "output_type": "stream",
     "text": [
      " * sqlite://\n",
      "(sqlite3.IntegrityError) FOREIGN KEY constraint failed [SQL: \"INSERT INTO grade(student_id, course_id, grade) VALUES (1, 3, 'U')\"] (Background on this error at: http://sqlalche.me/e/gkpj)\n"
     ]
    }
   ],
   "source": [
    "try:\n",
    "    %sql INSERT INTO grade(student_id, course_id, grade) VALUES (1, 3, 'U')\n",
    "except Exception as e:\n",
    "    print(e)"
   ]
  },
  {
   "cell_type": "markdown",
   "metadata": {},
   "source": [
    "we will get an error (``FOREIGN KEY constraint failed``) since we are trying to refer to a non-existing course.\n",
    "\n",
    "Alright, the grade is actually for the Database Design I course (with ID 1). Marge took that course too but with the grade of 5:"
   ]
  },
  {
   "cell_type": "code",
   "execution_count": 10,
   "metadata": {},
   "outputs": [
    {
     "name": "stdout",
     "output_type": "stream",
     "text": [
      " * sqlite://\n",
      "1 rows affected.\n",
      "1 rows affected.\n"
     ]
    },
    {
     "data": {
      "text/plain": [
       "[]"
      ]
     },
     "execution_count": 10,
     "metadata": {},
     "output_type": "execute_result"
    }
   ],
   "source": [
    "%%sql\n",
    "INSERT INTO grade(student_id, course_id, grade) VALUES (1, 1, 'U');\n",
    "INSERT INTO grade(student_id, course_id, grade) VALUES (2, 1, '5')"
   ]
  },
  {
   "cell_type": "markdown",
   "metadata": {},
   "source": [
    "Homer was not doing great at UU (he has not finished any other course) and returned to Springfield. We want to remove him from our database:"
   ]
  },
  {
   "cell_type": "code",
   "execution_count": 11,
   "metadata": {},
   "outputs": [
    {
     "name": "stdout",
     "output_type": "stream",
     "text": [
      " * sqlite://\n",
      "(sqlite3.IntegrityError) FOREIGN KEY constraint failed [SQL: 'DELETE FROM student WHERE id=1'] (Background on this error at: http://sqlalche.me/e/gkpj)\n"
     ]
    }
   ],
   "source": [
    "try:\n",
    "    %sql DELETE FROM student WHERE id=1\n",
    "except Exception as e:\n",
    "    print(e)"
   ]
  },
  {
   "cell_type": "markdown",
   "metadata": {},
   "source": [
    "This does not work since there are rows in other tables which are referencing Homer (there is one grade for him in the grade table). We could remove these first and then remove Homer, but let's try something else instead.\n",
    "\n",
    "Let's drop the grade table (the content will be removed too!) and re-create it again with ``ON DELETE CASCADE`` for both foreign keys:"
   ]
  },
  {
   "cell_type": "code",
   "execution_count": 12,
   "metadata": {},
   "outputs": [
    {
     "name": "stdout",
     "output_type": "stream",
     "text": [
      " * sqlite://\n",
      "Done.\n",
      "Done.\n",
      "Done.\n",
      "1 rows affected.\n"
     ]
    },
    {
     "data": {
      "text/plain": [
       "[]"
      ]
     },
     "execution_count": 12,
     "metadata": {},
     "output_type": "execute_result"
    }
   ],
   "source": [
    "%%sql\n",
    "-- Drop the table:\n",
    "DROP TABLE grade;\n",
    "-- Create the table again:\n",
    "CREATE TABLE grade(\n",
    "  student_id int NOT NULL,\n",
    "  course_id int NOT NULL,\n",
    "  grade char(1),\n",
    "  PRIMARY KEY(student_id, course_id),\n",
    "  FOREIGN KEY(student_id) REFERENCES student(id) ON DELETE CASCADE,\n",
    "  FOREIGN KEY(course_id) REFERENCES course(id) ON DELETE CASCADE\n",
    ");\n",
    "-- Insert the original content into the table:\n",
    "INSERT INTO grade(student_id, course_id, grade) VALUES (1, 1, 'U');\n",
    "INSERT INTO grade(student_id, course_id, grade) VALUES (2, 1, '5')"
   ]
  },
  {
   "cell_type": "markdown",
   "metadata": {},
   "source": [
    "If we now try to delete Homer from the student table:"
   ]
  },
  {
   "cell_type": "code",
   "execution_count": 13,
   "metadata": {},
   "outputs": [
    {
     "name": "stdout",
     "output_type": "stream",
     "text": [
      " * sqlite://\n",
      "1 rows affected.\n"
     ]
    },
    {
     "data": {
      "text/plain": [
       "[]"
      ]
     },
     "execution_count": 13,
     "metadata": {},
     "output_type": "execute_result"
    }
   ],
   "source": [
    "%%sql\n",
    "DELETE FROM student WHERE id=1"
   ]
  },
  {
   "cell_type": "markdown",
   "metadata": {},
   "source": [
    "No error. What is the content of the student table? And what is the content of the grade table?"
   ]
  },
  {
   "cell_type": "code",
   "execution_count": 14,
   "metadata": {},
   "outputs": [
    {
     "name": "stdout",
     "output_type": "stream",
     "text": [
      " * sqlite://\n",
      "Done.\n"
     ]
    },
    {
     "data": {
      "text/html": [
       "<table>\n",
       "    <tr>\n",
       "        <th>id</th>\n",
       "        <th>first_name</th>\n",
       "        <th>last_name</th>\n",
       "    </tr>\n",
       "    <tr>\n",
       "        <td>2</td>\n",
       "        <td>Marge</td>\n",
       "        <td>Bouvier</td>\n",
       "    </tr>\n",
       "</table>"
      ],
      "text/plain": [
       "[(2, 'Marge', 'Bouvier')]"
      ]
     },
     "execution_count": 14,
     "metadata": {},
     "output_type": "execute_result"
    }
   ],
   "source": [
    "%%sql\n",
    "SELECT * FROM student;"
   ]
  },
  {
   "cell_type": "code",
   "execution_count": 15,
   "metadata": {},
   "outputs": [
    {
     "name": "stdout",
     "output_type": "stream",
     "text": [
      " * sqlite://\n",
      "Done.\n"
     ]
    },
    {
     "data": {
      "text/html": [
       "<table>\n",
       "    <tr>\n",
       "        <th>student_id</th>\n",
       "        <th>course_id</th>\n",
       "        <th>grade</th>\n",
       "    </tr>\n",
       "    <tr>\n",
       "        <td>2</td>\n",
       "        <td>1</td>\n",
       "        <td>5</td>\n",
       "    </tr>\n",
       "</table>"
      ],
      "text/plain": [
       "[(2, 1, '5')]"
      ]
     },
     "execution_count": 15,
     "metadata": {},
     "output_type": "execute_result"
    }
   ],
   "source": [
    "%%sql\n",
    "SELECT * FROM grade;"
   ]
  },
  {
   "cell_type": "markdown",
   "metadata": {},
   "source": [
    "Homer was indeed removed from the student table so were all the tuples from the grade table referencing the removed student.\n",
    "\n",
    "The ``ON DELETE CASCADE`` specification says that all grade rows for a particular student are going to be removed when that student is removed. (And similarly, all grade rows for a particular course are going to be removed when that course is removed because of the second ``ON DELETE CASCADE``.)\n",
    "\n",
    "Very similar situation occurs if we try to change the primary key for a student. If we want to change the ID of Marge Simpson to, say, 100 (nobody has this ID so we are allowed to do that):"
   ]
  },
  {
   "cell_type": "code",
   "execution_count": 16,
   "metadata": {},
   "outputs": [
    {
     "name": "stdout",
     "output_type": "stream",
     "text": [
      " * sqlite://\n",
      "(sqlite3.IntegrityError) FOREIGN KEY constraint failed [SQL: 'UPDATE student SET id=100 WHERE id=2'] (Background on this error at: http://sqlalche.me/e/gkpj)\n"
     ]
    }
   ],
   "source": [
    "try:\n",
    "    %sql UPDATE student SET id=100 WHERE id=2\n",
    "except Exception as e:\n",
    "    print(e)"
   ]
  },
  {
   "cell_type": "markdown",
   "metadata": {},
   "source": [
    "We will get an error as well (Error: ``FOREIGN KEY constraint failed``). The reason is that the grade table has a row saying \"student with ID 2\" got grade of 5 in \"course with ID 1\" and after changing the ID there would be no student with ID 1. We can force updating student IDs in other tables by adding ``ON UPDATE CASCADE``:"
   ]
  },
  {
   "cell_type": "code",
   "execution_count": 17,
   "metadata": {},
   "outputs": [
    {
     "name": "stdout",
     "output_type": "stream",
     "text": [
      " * sqlite://\n",
      "Done.\n",
      "Done.\n",
      "Done.\n"
     ]
    },
    {
     "data": {
      "text/plain": [
       "[]"
      ]
     },
     "execution_count": 17,
     "metadata": {},
     "output_type": "execute_result"
    }
   ],
   "source": [
    "%%sql\n",
    "-- Drop the table:\n",
    "DROP TABLE grade;\n",
    "-- Create the table again:\n",
    "CREATE TABLE grade(\n",
    "  student_id int NOT NULL,\n",
    "  course_id int NOT NULL,\n",
    "  grade char(1),\n",
    "  PRIMARY KEY(student_id, course_id),\n",
    "  FOREIGN KEY(student_id) REFERENCES student(id) ON DELETE CASCADE ON UPDATE CASCADE,\n",
    "  FOREIGN KEY(course_id) REFERENCES course(id) ON DELETE CASCADE ON UPDATE CASCADE\n",
    ");\n",
    "-- Insert the original content into the table:\n",
    "INSERT INTO grade(student_id, course_id, grade) VALUES (2, 1, '5');"
   ]
  },
  {
   "cell_type": "markdown",
   "metadata": {},
   "source": [
    "Now let's try again:"
   ]
  },
  {
   "cell_type": "code",
   "execution_count": 18,
   "metadata": {},
   "outputs": [
    {
     "name": "stdout",
     "output_type": "stream",
     "text": [
      " * sqlite://\n",
      "1 rows affected.\n"
     ]
    },
    {
     "data": {
      "text/plain": [
       "[]"
      ]
     },
     "execution_count": 18,
     "metadata": {},
     "output_type": "execute_result"
    }
   ],
   "source": [
    "%%sql\n",
    "UPDATE student SET id=100 WHERE id=2"
   ]
  },
  {
   "cell_type": "markdown",
   "metadata": {},
   "source": [
    "The student table looks like expected (Marge has the ID 100):"
   ]
  },
  {
   "cell_type": "code",
   "execution_count": 19,
   "metadata": {},
   "outputs": [
    {
     "name": "stdout",
     "output_type": "stream",
     "text": [
      " * sqlite://\n",
      "Done.\n"
     ]
    },
    {
     "data": {
      "text/html": [
       "<table>\n",
       "    <tr>\n",
       "        <th>id</th>\n",
       "        <th>first_name</th>\n",
       "        <th>last_name</th>\n",
       "    </tr>\n",
       "    <tr>\n",
       "        <td>100</td>\n",
       "        <td>Marge</td>\n",
       "        <td>Bouvier</td>\n",
       "    </tr>\n",
       "</table>"
      ],
      "text/plain": [
       "[(100, 'Marge', 'Bouvier')]"
      ]
     },
     "execution_count": 19,
     "metadata": {},
     "output_type": "execute_result"
    }
   ],
   "source": [
    "%%sql\n",
    "SELECT * FROM student"
   ]
  },
  {
   "cell_type": "markdown",
   "metadata": {},
   "source": [
    "What about the grade table?"
   ]
  },
  {
   "cell_type": "code",
   "execution_count": 20,
   "metadata": {},
   "outputs": [
    {
     "name": "stdout",
     "output_type": "stream",
     "text": [
      " * sqlite://\n",
      "Done.\n"
     ]
    },
    {
     "data": {
      "text/html": [
       "<table>\n",
       "    <tr>\n",
       "        <th>student_id</th>\n",
       "        <th>course_id</th>\n",
       "        <th>grade</th>\n",
       "    </tr>\n",
       "    <tr>\n",
       "        <td>100</td>\n",
       "        <td>1</td>\n",
       "        <td>5</td>\n",
       "    </tr>\n",
       "</table>"
      ],
      "text/plain": [
       "[(100, 1, '5')]"
      ]
     },
     "execution_count": 20,
     "metadata": {},
     "output_type": "execute_result"
    }
   ],
   "source": [
    "%%sql\n",
    "SELECT * FROM grade"
   ]
  },
  {
   "cell_type": "markdown",
   "metadata": {},
   "source": [
    "The ``student_id``s equal to 2 were updated to 100."
   ]
  },
  {
   "cell_type": "markdown",
   "metadata": {},
   "source": [
    "Some final notes:\n",
    "\n",
    "* The keywords in SQL are case-insensitive (i. e. you can write ``SELECT * FROM grade`` or ``select * from grade``).\n",
    "* The names of tables and columns might be case-sensitive or case-insensitive – depends on the RDBM you use.\n",
    "* Several SQLs are separated by semicolons."
   ]
  }
 ],
 "metadata": {
  "kernelspec": {
   "display_name": "Python 3",
   "language": "python",
   "name": "python3"
  },
  "language_info": {
   "codemirror_mode": {
    "name": "ipython",
    "version": 3
   },
   "file_extension": ".py",
   "mimetype": "text/x-python",
   "name": "python",
   "nbconvert_exporter": "python",
   "pygments_lexer": "ipython3",
   "version": "3.7.0"
  }
 },
 "nbformat": 4,
 "nbformat_minor": 2
}
